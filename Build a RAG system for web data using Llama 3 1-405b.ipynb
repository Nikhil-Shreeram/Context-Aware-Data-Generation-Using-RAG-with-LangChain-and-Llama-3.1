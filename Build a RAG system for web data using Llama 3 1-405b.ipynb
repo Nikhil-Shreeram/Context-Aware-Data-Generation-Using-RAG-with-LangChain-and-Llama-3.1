{
 "cells": [
  {
   "cell_type": "markdown",
   "metadata": {},
   "source": [
    "# <a id='toc1_'></a>[Building a RAG system for web data using Llama 3.1-405b](#toc0_)\n"
   ]
  },
  {
   "cell_type": "markdown",
   "metadata": {},
   "source": [
    "Note: This project builds upon the [Create a LangChain RAG system for web data in Python using Llama 3.1-405b in watsonx.ai](https://developer.ibm.com/tutorials/awb-create-langchain-rag-system-web-data-llama405b-watsonx/) tutorial authored by Erika Russi.\n",
    "\n",
    "In this project, we will use LangChain and `meta-llama/llama-3-405b-instruct` to walk through a step-by-step Retrieval Augmented Generation ([RAG](https://research.ibm.com/blog/retrieval-augmented-generation-RAG?utm_source=skills_network&utm_content=in_lab_content_link&utm_id=Lab-Building+a+RAG+system+for+web+data+using+Llama+3.1-405b_v1_1722347683)) example in Python.\n"
   ]
  },
  {
   "cell_type": "markdown",
   "metadata": {},
   "source": [
    "## <a id='toc1_1_'></a>[Introduction](#toc0_)\n",
    "\n",
    "Imagine you have several web pages, and want to extract information from them. You could read each page and take notes, but that would be time-consuming. Instead, you can use a RAG system to help you. RAG systems combine the power of a large language model (LLM) with a retrieval system to provide context to the LLM. This allows you to ask questions about the content of the web pages and get answers quickly.\n",
    "\n",
    "\n"
   ]
  },
  {
   "cell_type": "markdown",
   "metadata": {},
   "source": [
    "## <a id='toc1_4_'></a>[Background](#toc0_)\n",
    "\n",
    "### <a id='toc1_4_1_'></a>[What is Large Language Model (LLM)?](#toc0_)\n",
    "\n",
    "[Large language models](https://www.ibm.com/topics/large-language-models?utm_source=skills_network&utm_content=in_lab_content_link&utm_id=Lab-Build+a+RAG+system+for+web+data+using+Llama+3.1-405b_v1_1727723829) are a category of foundation models trained on immense amounts of data making them capable of understanding and generating natural language and other types of content to perform a wide range of tasks.\n",
    "\n",
    "### <a id='toc1_4_2_'></a>[What is IBM watsonx?](#toc0_)\n",
    "\n",
    "[IBM watsonx](https://www.ibm.com/watsonx?utm_source=skills_network&utm_content=in_lab_content_link&utm_id=Lab-Build+a+RAG+system+for+web+data+using+Llama+3.1-405b_v1_1727723829) is a suite of artificial intelligence (AI) tools and services that are designed to help developers build and deploy AI-driven applications. watsonx provides a range of APIs and tools that make it easy to integrate AI capabilities into applications, including natural language processing, computer vision, and speech recognition.\n",
    "\n",
    "**Enterprises  turn to watsonx because it is:**\n",
    "\n",
    "- **Open**: Based on open technologies that provide a variety of models to cover enterprise use cases and support compliance initiatives.\n",
    "- **Targeted**: Targeted to specific enterprise domains like HR, customer service or IT operations to unlock new value.\n",
    "- **Trusted**: Designed with principles of transparency, responsibility, and governance, so that you can manage  ethical and accuracy concerns.\n",
    "- **Empowering**: Go beyond being an AI user and become an AI value creator, owning the value your models create.\n",
    "\n",
    "### <a id='toc1_4_3_'></a>[Why watsonx vs other cloud platforms?](#toc0_)\n",
    "\n",
    "- **Infrastructure**: watsonx offers hybrid, multi-cloud option for model deployment.\n",
    "- **Models**: watsonx's ability to deliver on-premise. watsonx offers deployment flexibility and additional safeguards when working with proprietary data not suited for a 3rd party cloud.\n",
    "- **Platform**: watsonx is not just watsonx.ai – it is also watsonx.data and watsonx.governance, adding data control/management and data/AI governance. This gives clients an infrastructure that allows them to develop/deploy and govern the data and the AI model being used.\n",
    "\n",
    "\n",
    "### <a id='toc1_4_4_'></a>[What is LangChain?](#toc0_)\n",
    "\n",
    "[LangChain](https://www.ibm.com/topics/langchain?utm_source=skills_network&utm_content=in_lab_content_link&utm_id=Lab-Build+a+RAG+system+for+web+data+using+Llama+3.1-405b_v1_1727723829) is an open source orchestration framework for the development of applications using LLMs. Available in both Python- and JavaScript-based libraries, LangChain’s tools and APIs simplify the process of building LLM-driven applications like [chatbots](https://www.ibm.com/topics/chatbots?utm_source=skills_network&utm_content=in_lab_content_link&utm_id=Lab-Build+a+RAG+system+for+web+data+using+Llama+3.1-405b_v1_1727723829) and [virtual agents](https://www.ibm.com/topics/virtual-agent?utm_source=skills_network&utm_content=in_lab_content_link&utm_id=Lab-Build+a+RAG+system+for+web+data+using+Llama+3.1-405b_v1_1727723829). \n",
    "\n",
    "### <a id='toc1_4_5_'></a>[What is Llama 3.1-405b?](#toc0_)\n",
    "\n",
    "[On Tuesday, July 23, 2024, Meta announced the launch of the Llama 3.1 collection of multilingual large language models (LLMs)](https://www.ibm.com/blog/meta-releases-llama-3-1-models-405b-parameter-variant/?utm_source=skills_network&utm_content=in_lab_content_link&utm_id=Lab-Build+a+RAG+system+for+web+data+using+Llama+3.1-405b_v1_1727723829). Llama 3.1 comprises both pretrained and instruction-tuned text in/text out open source generative AI models in sizes of 8B, 70B and—for the first time—405B parameters. Llama-3.1-405B is one of the world’s largest and most powerful open models. \n",
    "\n",
    "Powered by 405 billion parameters, this model specializes in generating synthetic data, distilling knowledge into smaller models, domain-specific fine-tuning and evaluating other models’ responses. Its performance either matches or surpasses leading large language models in a variety of tests assessing undergraduate level knowledge, graduate level reasoning, math problem solving, reading comprehension, and more.\n",
    "\n",
    "Unlike its closed source peers, Llama-3.1-405B is open source, meaning it can be built upon and improved by the broader community.\n",
    "\n",
    "More information about Llama 3.1-405b can be found [here](https://ai.meta.com/blog/meta-llama-3-1/).\n",
    "\n",
    "### <a id='toc1_4_6_'></a>[What is Retrieval Augmented Generation (RAG)?](#toc0_)\n",
    "\n",
    "[RAG](https://research.ibm.com/blog/retrieval-augmented-generation-RAG?utm_source=skills_network&utm_content=in_lab_content_link&utm_id=Lab-Build+a+RAG+system+for+web+data+using+Llama+3.1-405b_v1_1727723829) is a technique in natural language processing (NLP) that combines information retrieval and generative models to produce more accurate, relevant, and contextually aware responses.\n",
    "\n",
    "### <a id='toc1_4_7_'></a>[More about RAG and LangChain](#toc0_)\n",
    "\n",
    "In traditional language generation tasks, LLMs, such as OpenAI’s GPT (Generative Pre-trained Transformer) or IBM’s Granite Models, are used to construct responses based on an input prompt. However, these models can struggle to produce responses that are contextually relevant, factually accurate, or up-to-date. The models may not know the latest information about IBM products.\n",
    "\n",
    "RAG applications address this limitation by incorporating a retrieval step before response generation. During retrieval, [vector search](https://www.ibm.com/topics/vector-search?utm_source=skills_network&utm_content=in_lab_content_link&utm_id=Lab-Build+a+RAG+system+for+web+data+using+Llama+3.1-405b_v1_1727723829) can be used to identify contextually pertinent information, such as relevant information or documents from a large corpus of text, typically stored in a [vector database](https://www.ibm.com/topics/vector-database?utm_source=skills_network&utm_content=in_lab_content_link&utm_id=Lab-Build+a+RAG+system+for+web+data+using+Llama+3.1-405b_v1_1727723829). Finally, an LLM is used to generate a response based on the retrieved context. RAG is an affordable and simple alternative to [fine-tuning](https://www.ibm.com/topics/fine-tuning?utm_source=skills_network&utm_content=in_lab_content_link&utm_id=Lab-Build+a+RAG+system+for+web+data+using+Llama+3.1-405b_v1_1727723829) a model for text-generation artificial intelligence tasks.\n",
    "\n",
    "LangChain is a powerful, open-source framework that facilitates the development of applications using LLMs for various NLP tasks. In the context of RAG, LangChain plays a critical role by combining the strengths of retrieval-based methods and generative models to enhance the capabilities of NLP systems.\n"
   ]
  },
  {
   "cell_type": "markdown",
   "metadata": {},
   "source": [
    "## <a id='toc1_5_'></a>[Setup](#toc0_)\n",
    "\n",
    "For this lab, we will be using the following libraries:\n",
    "\n",
    "\n",
    "*   [`langchain`](https://pypi.org/project/langchain/): Building applications with LLMs through composability.\n",
    "*   [`ibm-watsonx-ai`](https://pypi.org/project/ibm-watsonx-ai/): `ibm-watsonx-ai` is a library that allows to work with watsonx.ai service on IBM Cloud and IBM Cloud for Data. Train, test, and deploy your models as APIs for application development and share with colleagues using this python library.\n",
    "*   [`langchain-ibm`](https://pypi.org/project/langchain-ibm/): This package provides the integration between LangChain and IBM watsonx.ai through the ibm-watsonx-ai SDK.\n",
    "*   [`unstructured`](https://pypi.org/project/unstructured/): A library that prepares raw documents for downstream ML tasks.\n",
    "*   [`ibm-watson-machine-learning`](https://pypi.org/project/ibm-watson-machine-learning/): A library that allows to work with Watson Machine Learning service on IBM Cloud and IBM Cloud for Data. Train, test, and deploy your models as APIs for application development and share with colleagues using this python library.\n"
   ]
  },
  {
   "cell_type": "code",
   "execution_count": 1,
   "metadata": {},
   "outputs": [
    {
     "name": "stdout",
     "output_type": "stream",
     "text": [
      "Successfully installed annotated-types-0.7.0 langchain-0.2.6 langchain-core-0.2.41 langchain-text-splitters-0.2.4 langsmith-0.1.137 numpy-1.26.4 orjson-3.10.10 pydantic-2.9.2 pydantic-core-2.23.4 requests-toolbelt-1.0.0\n",
      "Note: you may need to restart the kernel to use updated packages.\n",
      "Successfully installed asgiref-3.8.1 backoff-2.2.1 bcrypt-4.2.0 build-1.2.2.post1 cachetools-5.5.0 chroma-hnswlib-0.7.6 chromadb-0.5.15 click-8.1.7 coloredlogs-15.0.1 deprecated-1.2.14 durationpy-0.9 fastapi-0.115.3 filelock-3.16.1 flatbuffers-24.3.25 fsspec-2024.10.0 google-auth-2.35.0 googleapis-common-protos-1.65.0 grpcio-1.67.0 httptools-0.6.4 huggingface-hub-0.26.1 humanfriendly-10.0 kubernetes-31.0.0 langchain_chroma-0.1.2 markdown-it-py-3.0.0 mdurl-0.1.2 mmh3-5.0.1 monotonic-1.6 mpmath-1.3.0 onnxruntime-1.19.2 opentelemetry-api-1.27.0 opentelemetry-exporter-otlp-proto-common-1.27.0 opentelemetry-exporter-otlp-proto-grpc-1.27.0 opentelemetry-instrumentation-0.48b0 opentelemetry-instrumentation-asgi-0.48b0 opentelemetry-instrumentation-fastapi-0.48b0 opentelemetry-proto-1.27.0 opentelemetry-sdk-1.27.0 opentelemetry-semantic-conventions-0.48b0 opentelemetry-util-http-0.48b0 posthog-3.7.0 protobuf-4.25.5 pyasn1-0.6.1 pyasn1-modules-0.4.1 pypika-0.48.9 pyproject_hooks-1.2.0 python-dotenv-1.0.1 requests-oauthlib-2.0.0 rich-13.9.3 rsa-4.9 shellingham-1.5.4 starlette-0.41.0 sympy-1.13.3 tokenizers-0.20.1 typer-0.12.5 uvicorn-0.32.0 uvloop-0.21.0 watchfiles-0.24.0 websockets-13.1 wrapt-1.16.0\n",
      "Note: you may need to restart the kernel to use updated packages.\n",
      "Successfully installed dataclasses-json-0.6.7 langchain-community-0.2.6 marshmallow-3.23.0 mypy-extensions-1.0.0 typing-inspect-0.9.0\n",
      "Note: you may need to restart the kernel to use updated packages.\n",
      "Successfully installed ibm-cos-sdk-2.13.6 ibm-cos-sdk-core-2.13.6 ibm-cos-sdk-s3transfer-2.13.6 ibm-watsonx-ai-1.0.10 jmespath-1.0.1 lomond-0.3.3 pandas-2.1.4 requests-2.32.2 tabulate-0.9.0 tzdata-2024.2\n",
      "Note: you may need to restart the kernel to use updated packages.\n",
      "Successfully installed langchain_ibm-0.1.11\n",
      "Note: you may need to restart the kernel to use updated packages.\n",
      "\u001b[31mERROR: pip's dependency resolver does not currently take into account all the packages that are installed. This behaviour is the source of the following dependency conflicts.\n",
      "ibm-cos-sdk-core 2.13.6 requires python-dateutil<3.0.0,>=2.9.0, but you have python-dateutil 2.8.2 which is incompatible.\u001b[0m\u001b[31m\n",
      "\u001b[0mSuccessfully installed chardet-5.2.0 emoji-2.14.0 eval-type-backport-0.2.0 filetype-1.2.0 joblib-1.4.2 jsonpath-python-1.0.6 langdetect-1.0.9 lxml-5.3.0 nltk-3.9.1 pypdf-5.0.1 python-dateutil-2.8.2 python-iso639-2024.10.22 python-magic-0.4.27 rapidfuzz-3.10.1 regex-2024.9.11 unstructured-0.15.0 unstructured-client-0.26.1\n",
      "Note: you may need to restart the kernel to use updated packages.\n",
      "\u001b[31mERROR: pip's dependency resolver does not currently take into account all the packages that are installed. This behaviour is the source of the following dependency conflicts.\n",
      "unstructured-client 0.26.1 requires python-dateutil==2.8.2, but you have python-dateutil 2.9.0.post0 which is incompatible.\u001b[0m\u001b[31m\n",
      "\u001b[0mSuccessfully installed ibm-watson-machine-learning-1.0.360 python-dateutil-2.9.0.post0\n",
      "Note: you may need to restart the kernel to use updated packages.\n"
     ]
    }
   ],
   "source": [
    "%pip install langchain==0.2.6 | tail -n 1\n",
    "%pip install langchain_chroma==0.1.2 | tail -n 1\n",
    "%pip install langchain-community==0.2.6 | tail -n 1\n",
    "%pip install ibm-watsonx-ai==1.0.10 | tail -n 1\n",
    "%pip install langchain_ibm==0.1.11 | tail -n 1\n",
    "%pip install unstructured==0.15.0 | tail -n 1\n",
    "%pip install ibm-watson-machine-learning==1.0.360 | tail -n 1"
   ]
  },
  {
   "cell_type": "code",
   "execution_count": 2,
   "metadata": {},
   "outputs": [],
   "source": [
    "#import required libraries\n",
    "import os\n",
    "\n",
    "from ibm_watson_machine_learning.metanames import GenTextParamsMetaNames as GenParams\n",
    "from ibm_watsonx_ai.foundation_models.utils.enums import EmbeddingTypes\n",
    "\n",
    "from langchain_ibm import WatsonxEmbeddings, WatsonxLLM\n",
    "from langchain.vectorstores import Chroma\n",
    "\n",
    "from langchain_core.prompts import ChatPromptTemplate\n",
    "from langchain_core.output_parsers import StrOutputParser\n",
    "from langchain_core.runnables import RunnablePassthrough\n",
    "\n",
    "\n",
    "import warnings\n",
    "warnings.filterwarnings('ignore')"
   ]
  },
  {
   "cell_type": "markdown",
   "metadata": {},
   "source": [
    "## <a id='toc1_6_'></a>[Watsonx API credentials and project_id](#toc0_)\n",
    "\n",
    "This section provides you with the necessary credentials to access the watsonx API.\n",
    "\n",
    "**Please note:**\n",
    "\n",
    "In this lab environment, you don't need to specify the api_key, and the project_id is pre_set as \"skills-network\", but if you want to use the model locally, you need to go to [watsonx](https://www.ibm.com/watsonx?utm_source=skills_network&utm_content=in_lab_content_link&utm_id=Lab-Build+a+RAG+system+for+web+data+using+Llama+3.1-405b_v1_1727723829) to create your own keys and ID.\n"
   ]
  },
  {
   "cell_type": "code",
   "execution_count": 3,
   "metadata": {},
   "outputs": [],
   "source": [
    "from ibm_watsonx_ai import Credentials\n",
    "import os\n",
    "\n",
    "\n",
    "credentials = Credentials(\n",
    "                   url = \"https://us-south.ml.cloud.ibm.com\",\n",
    "                  )\n",
    "\n",
    "project_id = \"skills-network\""
   ]
  },
  {
   "cell_type": "markdown",
   "metadata": {},
   "source": [
    "## <a id='toc1_7_'></a>[Index the URLs to create the knowledge base](#toc0_)\n",
    "\n",
    "We’ll index our IBM products specific pages from URLs to create a knowledge base as a vectorstore. The content from these URLs will be our data sources and context for this exercise. The context will then be provided to an LLM to answer any questions we have about the IBM products.\n",
    "\n",
    "The first step to building vector embeddings is to clean and process the raw dataset. This may involve the removal of noise and standardization of the text. For our example, we won’t do any cleaning since the text is already cleaned and standardized.\n",
    "\n",
    "First, let's establish `URLS_DICTIONARY`. `URLS_DICTIONARY` is a dict that helps us map the URLs from which we will be extracting the content. Let's also set up a name for our collection: `ibm_products`.\n",
    "\n",
    "Next, let's load our documents for the list of URLs we have. We'll print a sample document at the end to see how it's been loaded. \n"
   ]
  },
  {
   "cell_type": "code",
   "execution_count": 4,
   "metadata": {},
   "outputs": [
    {
     "name": "stdout",
     "output_type": "stream",
     "text": [
      "Loading from https://cf-courses-data.s3.us.cloud-object-storage.appdomain.cloud/PWMJ9-Npq9FYNSWrrf99YQ/watsonx.txt\n",
      "Loaded from https://cf-courses-data.s3.us.cloud-object-storage.appdomain.cloud/PWMJ9-Npq9FYNSWrrf99YQ/watsonx.txt\n",
      "Loading from https://cf-courses-data.s3.us.cloud-object-storage.appdomain.cloud/wxekgOAVRH71dO92DEbwfQ/ibm-cloud.txt\n",
      "Loaded from https://cf-courses-data.s3.us.cloud-object-storage.appdomain.cloud/wxekgOAVRH71dO92DEbwfQ/ibm-cloud.txt\n",
      "{'source': 'https://cf-courses-data.s3.us.cloud-object-storage.appdomain.cloud/PWMJ9-Npq9FYNSWrrf99YQ/watsonx.txt', 'name': 'watsonx_wiki'}\n",
      "IBM Watsonx\\n\\nTÃ¼rkÃ§e\\n\\nEdit links\\n\\nFrom Wikipedia, the free encyclopedia\\n\\nAI platform developed by IBM\\n\\nFor the IBM question answering computer system, see IBM Watson.\\n\\nDeveloper(s) IBM Initial release May\\xa09, 2023 ; 14 months ago ( 2023-05-09 ) [1] Written in Python Engine Multiple large language models (LLMs) Platform Cloud computing platforms Type Chatbot AI fine-tuning of large language models Generative pre-trained transformer (GPT) License Proprietary Website www .ibm .com /watsonx\\n\\nPart of a series on Machine learning and data mining Paradigms Supervised learning Unsupervised learning Online learning Batch learning Meta-learning Semi-supervised learning Self-supervised learning Reinforcement learning Curriculum learning Rule-based learning Quantum machine learning Neuromorphic engineering Problems Classification Generative modeling Regression Clustering Dimensionality reduction Density estimation Anomaly detection Data cleaning AutoML Association rules Semantic analysis Structured prediction Feature engineering Feature learning Learning to rank Grammar induction Ontology learning Multimodal learning Supervised learning ( classification â¢ regression ) Apprenticeship learning Decision trees Ensembles Bagging Boosting Random forest k -NN Linear regression Naive Bayes Artificial neural networks Logistic regression Perceptron Relevance vector machine (RVM) Support vector machine (SVM) Clustering BIRCH CURE Hierarchical k -means Fuzzy Expectationâmaximization (EM) DBSCAN OPTICS Mean shift Dimensionality reduction Factor analysis CCA ICA LDA NMF PCA PGD t-SNE SDL Structured prediction Graphical models Bayes net Conditional random field Hidden Markov Anomaly detection RANSAC k -NN Local outlier factor Isolation forest Artificial neural network Autoencoder Deep learning Feedforward neural network Recurrent neural network LSTM GRU ESN reservoir computing Boltzmann machine Restricted GAN Diffusion model SOM Convolutional neural network U-Net LeNet AlexNet DeepDream Neural radiance field Transformer Vision Mamba Spiking neural network Memtransistor Electrochemical RAM (ECRAM) Reinforcement learning Q-learning SARSA Temporal difference (TD) Multi-agent Self-play Learning with humans Active learning Crowdsourcing Human-in-the-loop RLHF Model diagnostics Coefficient of determination Confusion matrix Learning curve ROC curve Mathematical foundations Kernel machines Biasâvariance tradeoff Computational learning theory Empirical risk minimization Occam learning PAC learning Statistical learning VC theory Journals and conferences ECML PKDD NeurIPS ICML ICLR IJCAI ML JMLR Related articles Glossary of artificial intelligence List of datasets for machine-learning research List of datasets in computer vision and image processing Outline of machine learning v t e\\n\\nWatsonx is IBM\\'s commercial generative AI and scientific data platform based on cloud. It offers a studio, data store, and governance toolkit. It supports multiple large language models (LLMs) along with IBM\\'s own Granite.[2][1]\\n\\nThe platform is described as an AI tool tailed to companies and a one which can be customized for customers\\' needs and trained on their confidential data, as client data is said to be not collected by IBM for further training of their models. It is also capable of fine-tuning, an approach which makes training pre-trained models on the newly introduced data possible.[3]\\n\\nHistory\\n\\n[edit]\\n\\nWatsonx was revealed on May 9, 2023, at the annual Think conference of IBM as a platform that includes multiple services. Just like Watson AI computer with the similar name, Watsonx was named after Thomas J. Watson, IBM\\'s founder and first CEO.[1]\\n\\nOn February 13, 2024, Anaconda partnered with IBM to embed its open-source Python packages into Watsonx.[4]\\n\\nWatsonx is currently used at ESPN\\'s Fantasy Football App for managing players\\' performance.[5] It is also used by Italian telecommunications company Wind Tre.[6] Watsonx was used to generate editorial content around nominees during the 66th Annual Grammy Awards.[7]\\n\\nServices\\n\\n[edit]\\n\\nwatsonx.ai\\n\\n[edit]\\n\\nWatsonx.ai is a platform that allows AI developers to leverage a wide range of LLMs under IBM\\'s own Granite series and others such as Facebook\\'s LLaMA-2, free and open-source model Mistral and many others present in Hugging Face community for a diverse set of AI development tasks.[8][9] These models come pre-trained and are designed to excel in various Natural Language Processing (NLP) applications, encompassing question answering, content generation, summarization, text classification, and data extraction. The platform allows fine-tuning with its Tuning Studio, allowing those models to learn the data provided by customers.[10]\\n\\nwatsonx.data\\n\\n[edit]\\n\\nWatsonx.data is a platform designed to assist clients in addressing issues related to data volume, complexity, cost, and governance as they scale their AI workloads. This platform facilitates seamless data access, whether the data is stored in the cloud or on-premises, through a single entry point, offering simple use for users who may not possess technical expertise. This approach prioritizes data security and compliance.[10]\\n\\nwatsonx.governance\\n\\n[edit]\\n\\nWatsonx.governance is a platform that utilizes IBM\\'s AI governance capabilities to support organizations in implementing comprehensive AI lifecycle governance. This helps them manage risks and maintain compliance with evolving AI and industry regulations. The platform allows organizations to reduce AI bias by overseeing their AI initiatives, leveraging software automation to enhance risk mitigation, regulatory compliance, and ethical considerations.[10]\\n\\nSee also\\n\\n[edit]\\n\\nIBM Watson\\n\\nGenerative AI\\n\\nLarge language model\\n\\nChatGPT\\n\\nReferences\\n\\n[edit]\\n\\n^ a b c \"IBM Unveils the Watsonx Platform to Power Next-Generation Foundation Models for Business\". IBM Newsroom (Press release).\\n\\n^ Wiggers, Kyle (September 7, 2023). \"IBM rolls out new generative AI features and models\". TechCrunch.\\n\\n^ Horsey, Julian (September 5, 2023). \"IBM Watsonx AI fine tuning platform for business announced\". geeky-gadgets.com.\\n\\n^ \"Anaconda Partners with IBM watsonx to Deliver Enterprise Scale AI Solutions\".\\n\\n^ \"IBM Boosts ESPN Fantasy Football Experience With Watsonx.ai\". Yahoo Finance. September 14, 2023.\\n\\n^ Licata, Patrizia (September 14, 2023). \"WindTre sceglie Watsonx di Ibm per gestire piÃ¹ velocemente le segnalazioni dei clienti\". corrierecomunicazioni.it (in Italian).\\n\\n^ \"IBM Unveils AI Stories with watsonx to Enhance the Digital Fan Experience for 66th Annual GRAMMY AwardsÂ®\". IBM (Press release). Armonk, New York. PRNewswire. January 25, 2024. Retrieved February 5, 2024.\\n\\n^ Brady, Sarah (September 2023). \"IBM launches new generative AI models\". MSN.\\n\\n^ Brady, Sarah (2023). \"IBM to integrate Llama 2 in Watsonx AI\". MSN.\\n\\n^ a b c McDowell, Steve. \"IBM Takes the Reins of Enterprise AI with Watsonx\". Forbes.\\n\\nExternal links\\n\\n[edit]\\n\\nOfficial webpage\\n\\nOfficial introductory video for watsonx AI Prompt Lab\\n\\nv t e IBM History History Mergers and acquisitions PC business acquisition by Lenovo Products Hardware Current Mainframe IBM Z Power microprocessors Power Systems Storage FlashSystem DS8000 Quantum Q System One Q System Two Eagle Osprey Heron Condor Former Blue Gene Cell microprocessors PowerPC Midrange computer Personal Computer Selectric ThinkPad Other alphaWorks Carbon Design System Cloud Cloudant Cognos Analytics Connections Criminal Reduction Utilising Statistical History Fortran ILOG Information Management Software Lotus Software Mainframe operating systems Mashup Center Planning Analytics PureQuery Quantum Platform Qiskit OpenQASM Rational Software SPSS Tivoli Software Service Automation Manager Watson Watsonx Granite WebSphere Business entities Current Apptio Center for The Business of Government Consulting Promontory Kenexa International subsidiaries India Press Red Hat Research Former AdStar AIM alliance Kaleida Labs Taligent Ambra Computer Cognos EduQuest Kyndryl Lexmark Merative Microelectronics Product Center Science Research Associates Service Bureau The Weather Company ( Weather Underground ) Facilities Towers 1250 RenÃ©-LÃ©vesque , Montreal, QC One Atlantic Center , Atlanta, GA Software Labs Rome Software Lab Toronto Software Lab IBM Buildings 330 North Wabash , Chicago, IL Honolulu Seattle Facilities Thomas J. Watson Research Center Hakozaki Facility Yamato Facility Cambridge Scientific Center IBM Hursley Canada Head Office Building IBM Rochester Initiatives Academy of Technology Deep Thunder Developer Develothon Fellow The Great Mind Challenge Linux Technology Center SkillsBuild Smarter Planet Virtual Universe Community World Community Grid Think conference Inventions Automated teller machine Cynefin framework DRAM Electronic keypunch Floppy disk Hard disk drive Magnetic stripe card Relational model Sabre airline reservation system Scanning tunneling microscope Financial swaps Universal Product Code Terminology Big Blue Commercial Processing Workload Customer engineer Globally integrated enterprise e-business Think slogan CEOs Thomas J. Watson (1914â1956) Thomas Watson Jr. (1956â1971) T. Vincent Learson (1971â1973) Frank T. Cary (1973â1981) John R. Opel (1981â1985) John Fellows Akers (1985â1993) Louis V. Gerstner Jr. (1993â2002) Samuel J. Palmisano (2002â2011) Ginni Rometty (2012â2020) Arvind Krishna (since 2020) Board of directors Thomas Buberl David Farr Alex Gorsky Michelle J. Howard Arvind Krishna Andrew Liveris Martha E. Pollack Joseph R. Swedish Peter R. Voser Other A Boy and His Atom Big Blue sports teams American football Rugby union Common Public License / IBM Public License Deep Blue Deep Thought Dynamic infrastructure GlobalFoundries GUIDE International IBM and the Holocaust International chess tournament Lucifer cipher Mathematica IBM Plex SHARE computing ScicomP Unions Category Commons Navigational boxes FOSS Midrange computers Operating systems Personal computers System/360 System/370 Typewriters Vacuum tube computers\\n\\nv t e Differentiable computing General Differentiable programming Information geometry Statistical manifold Automatic differentiation Neuromorphic engineering Pattern recognition Tensor calculus Computational learning theory Inductive bias Concepts Gradient descent SGD Clustering Regression Overfitting Hallucination Adversary Attention Convolution Loss functions Backpropagation Batchnorm Activation Softmax Sigmoid Rectifier Regularization Datasets Augmentation Diffusion Autoregression Applications Machine learning In-context learning Artificial neural network Deep learning Scientific computing Artificial Intelligence Language model Large language model Hardware IPU TPU VPU Memristor SpiNNaker Software libraries TensorFlow PyTorch Keras Theano JAX Flux.jl MindSpore Implementations Audioâvisual AlexNet WaveNet Human image synthesis HWR OCR Speech synthesis Speech recognition Facial recognition AlphaFold Text-to-image models DALL-E Midjourney Stable Diffusion Text-to-video models Sora VideoPoet Whisper Verbal Word2vec Seq2seq BERT Gemini LaMDA Bard NMT Project Debater IBM Watson IBM Watsonx Granite GPT-1 GPT-2 GPT-3 GPT-4 ChatGPT GPT-J Chinchilla AI PaLM BLOOM LLaMA PanGu-Î£ Decisional AlphaGo AlphaZero Q-learning SARSA OpenAI Five Self-driving car MuZero Action selection Auto-GPT Robot control People Yoshua Bengio Alex Graves Ian Goodfellow Stephen Grossberg Demis Hassabis Geoffrey Hinton Yann LeCun Fei-Fei Li Andrew Ng JÃ¼rgen Schmidhuber David Silver Ilya Sutskever Organizations Anthropic EleutherAI Google DeepMind Hugging Face OpenAI Meta AI Mila MIT CSAIL Huawei Architectures Neural Turing machine Differentiable neural computer Transformer Recurrent neural network (RNN) Long short-term memory (LSTM) Gated recurrent unit (GRU) Echo state network Multilayer perceptron (MLP) Convolutional neural network Residual neural network Mamba Autoencoder Variational autoencoder (VAE) Generative adversarial network (GAN) Graph neural network Portals Computer programming Technology Categories Artificial neural networks Machine learning\\n\\nRetrieved from \"https://en.wikipedia.org/w/index.php?title=IBM_Watsonx&oldid=1231062979\"\\n\\nCategories:\\n\\nIBM products\\n\\nIBM cloud services\\n\\nData mining and machine learning software\\n\\nChatbots\\n\\nLarge language models\\n\\nGenerative pre-trained transformers\\n\\nInteractive narrative\\n\\nVirtual assistants\\n\\n2023 software\\n\\nHidden categories:\\n\\nCS1 Italian-language sources (it)\\n\\nArticles with short description\\n\\nShort description is different from Wikidata\\n\\nUse American English from May 2023\\n\\nAll Wikipedia articles written in American English\\n\\nUse mdy dates from July 2023\n"
     ]
    }
   ],
   "source": [
    "import requests\n",
    "\n",
    "class Document:\n",
    "    def __init__(self, metadata, page_content):\n",
    "        self.metadata = metadata\n",
    "        self.page_content = page_content\n",
    "\n",
    "URLS_DICTIONARY = {\n",
    "    \"watsonx_wiki\": \"https://cf-courses-data.s3.us.cloud-object-storage.appdomain.cloud/PWMJ9-Npq9FYNSWrrf99YQ/watsonx.txt\",\n",
    "    \"ibm_cloud_wiki\": \"https://cf-courses-data.s3.us.cloud-object-storage.appdomain.cloud/wxekgOAVRH71dO92DEbwfQ/ibm-cloud.txt\",\n",
    "}\n",
    "COLLECTION_NAME = \"ibm_products\"\n",
    "\n",
    "documents = []\n",
    "\n",
    "for name, url in URLS_DICTIONARY.items():\n",
    "    print(f\"Loading from {url}\")\n",
    "    response = requests.get(url)\n",
    "\n",
    "    if response.status_code == 200:\n",
    "        data = {\n",
    "            'metadata': {\"source\": url, \"name\": name},\n",
    "            'page_content': response.text\n",
    "        }\n",
    "\n",
    "        documents.append(Document(metadata=data['metadata'], page_content=data['page_content']))\n",
    "        print(f\"Loaded from {url}\")\n",
    "    else:\n",
    "        print(f\"Failed to retrieve content from {url}\")\n",
    "\n",
    "\n",
    "print(documents[0].metadata)\n",
    "print(documents[0].page_content)"
   ]
  },
  {
   "cell_type": "markdown",
   "metadata": {},
   "source": [
    "Based on the sample document, it looks like there's a lot of white space and new line characters that we can get rid of. Let's clean that up and add some metadata to our documents, including an ID number and the source of the content.\n"
   ]
  },
  {
   "cell_type": "code",
   "execution_count": 5,
   "metadata": {},
   "outputs": [
    {
     "name": "stdout",
     "output_type": "stream",
     "text": [
      "{'source': 'https://cf-courses-data.s3.us.cloud-object-storage.appdomain.cloud/PWMJ9-Npq9FYNSWrrf99YQ/watsonx.txt', 'name': 'watsonx_wiki', 'id': 0}\n",
      "{'source': 'https://cf-courses-data.s3.us.cloud-object-storage.appdomain.cloud/wxekgOAVRH71dO92DEbwfQ/ibm-cloud.txt', 'name': 'ibm_cloud_wiki', 'id': 1}\n"
     ]
    },
    {
     "data": {
      "text/plain": [
       "{'source': 'https://cf-courses-data.s3.us.cloud-object-storage.appdomain.cloud/wxekgOAVRH71dO92DEbwfQ/ibm-cloud.txt',\n",
       " 'name': 'ibm_cloud_wiki',\n",
       " 'id': 1}"
      ]
     },
     "metadata": {},
     "output_type": "display_data"
    },
    {
     "data": {
      "text/plain": [
       "'IBM Cloud\\\\n\\\\ní\\x95\\x9cêµ\\xadì\\x96´\\\\n\\\\næ\\x97¥æ\\x9c¬èª\\x9e\\\\n\\\\nEdit links\\\\n\\\\nFrom Wikipedia, the free encyclopedia\\\\n\\\\nCloud computing services provided by IBM\\\\n\\\\nType cloud computing , IaaS , PaaS , cloud services Website www .ibm .com /cloud\\\\n\\\\nIBM Cloud (formerly known as Bluemix) is a set of cloud computing services for business offered by the information technology company IBM.\\\\n\\\\nServices\\\\n\\\\n[edit]\\\\n\\\\nAs of 2021, IBM Cloud contains more than 170 services[1] including compute, storage, networking, database, analytics, machine learning, and developer tools.\\\\n\\\\nHistory\\\\n\\\\n[edit]\\\\n\\\\nSoftLayer\\\\n\\\\n[edit]\\\\n\\\\nCompany type Subsidiary Industry Hosting Founded 2005 ( 2005 ) Founder Lance Crosby Headquarters Dallas , Texas , USA Products Dedicated Hosting, Managed Services Parent IBM (since 2013) ASN 36351 Website softlayer .com\\\\n\\\\nSoftLayer Technologies, Inc. (now IBM Cloud) was a dedicated server, managed hosting, and cloud computing provider, founded in 2005 and acquired by IBM in 2013. SoftLayer initially specialized in hosting workloads for gaming companies and startups, but shifted focus to enterprise workloads after its acquisition.[2]\\\\n\\\\nSoftLayer had bare-metal compute offerings before other large cloud providers such as Amazon Web Services.[3]\\\\n\\\\nSoftLayer has hosted workloads for companies such as The Hartford, WhatsApp, Whirlpool, Daimler, and Macy\\\\\\'s.[4]\\\\n\\\\nTimeline\\\\n\\\\n[edit]\\\\n\\\\nYear 2005: SoftLayer was established in 2005 by Lance Crosby and several of his ex-coworkers.[5]\\\\n\\\\nYear 2010 - August: GI Partners acquired a majority equity stake in SoftLayer in August 2010.[6]\\\\n\\\\nYear 2010 - November: In November of that year it merged the company with The Planet Internet Services, SoftLayer\\\\\\'s biggest competitor, and consolidated the customer base under the SoftLayer brand.[7][8]\\\\n\\\\nYear 2011 - Q1: In Q1 2011, the company reported hosting more than 81,000 servers for more than 26,000 customers in locations throughout the United States.[9]\\\\n\\\\nYear 2011 - July: In July 2011, the company announced plans for international expansion to Amsterdam and Singapore to add to the existing network of North American-based data centers in Dallas (Texas), San Jose (California), Seattle (Washington), Houston (Texas) and Washington, D.C.[10] Most of these data centers were leased via Digital Realty.[11]\\\\n\\\\nYear 2013 June 4: On June 4, 2013, IBM announced its acquisition of SoftLayer under undisclosed financial terms, in a deal that according to Reuters could have fetched more than $2 billion,[12] to form an IBM Cloud Services Division.[13][14] At the time of acquisition, SoftLayer was described as the biggest privately held cloud infrastructure provider (IaaS) in the world.[15]\\\\n\\\\nYear 2015 - May: As of May 2015, the company has 23 data centers in 11 different countries.[16]\\\\n\\\\nYear 2018: By 2018, SoftLayer was renamed to IBM Cloud.[17]\\\\n\\\\nInitial launch of Bluemix (2013â\\x80\\x932016)\\\\n\\\\n[edit]\\\\n\\\\nIn June 2013, IBM acquired SoftLayer, a public cloud platform, to serve as the foundation for its IaaS offering. Bluemix was announced for public beta in February 2014[18] after having been developed since early 2013.[19] Bluemix was based on the open source Cloud Foundry project and ran on SoftLayer infrastructure. IBM announced the general availability of the Bluemix Platform-as-a-Service (PaaS) offering in July 2014.[20]\\\\n\\\\nBy April 2015, Bluemix included a suite of over 100 cloud-based development tools \"including social, mobile, security, analytics, database, and IoT (internet of things).[21] Bluemix had grown to 83,000 users in India with growth of approximately 10,000 users each month.[21]\\\\n\\\\nA year after announcement, Bluemix had made little headway in the cloud-computing platform space relative to its competition, and remained substantially behind market leaders Microsoft Azure and Amazon AWS.[22] By August 2016, little had changed in market acceptance of the Bluemix offering.[23] In February 2016,[24] IBM Bluemix includes IBM\\\\\\'s Function as a Service (FaaS) system, or Serverless computing offering, that is built using open source[25] from the Apache OpenWhisk incubator project largely credited[26] to IBM for seeding. This system, equivalent to Amazon Lambda, Microsoft Azure Functions, Oracle Cloud Fn or Google Cloud Functions, allows calling of a specific function in response to an event without requiring any resource management from the developer.[27]\\\\n\\\\nRe-brand to IBM Cloud (since 2017)\\\\n\\\\n[edit]\\\\n\\\\nIn May 2017 IBM released Kubernetes support as the IBM Bluemix Container Service, later renamed to the IBM Cloud Kubernetes Service (IKS).[28] IKS was built using the open source Kubernetes project. This system, equivalent to Amazon Web Services EKS, Microsoft Azure AKS, or Google Cloud GKE, aims to provide a platform for automating deployment, scaling, and operations of application containers across clusters of hosts. In October 2017, IBM announced that they would rebrand their cloud as IBM Cloud brand, merging all components, thus retiring the Bluemix and Softlayer brands.[29] In March 2018, IBM launched an industry first managed Kubernetes service on bare metal.[30] In August 2019, 3 weeks after the close of Red Hat acquisition, IBM launched a managed Red Hat OpenShift on IBM Cloud.[31]\\\\n\\\\nIn November 2019, IBM has announced that it had designed the world\\\\\\'s first financial services-ready public cloud and that Bank of America was its first committed collaborator and anchor customer, joined shortly thereafter in 2020 by BNP Paribas as its first European anchor client.[32] IBM announced in April 2021 the general availability of IBM Cloud for Financial Services, including support for Red Hat OpenShift and other cloud-native technologies.[33] In July 2021, it was announced that SAP is onboarding two of its finance and data management solutions to IBM Cloud for Financial Services.[34] In September 2021, it was CaixaBank\\\\\\'s turn to boost digital capabilities with IBM Cloud for Financial Services[35] and onboarding to new IBM Cloud Multizone Region in Spain.[36]\\\\n\\\\nCustomer base\\\\n\\\\n[edit]\\\\n\\\\nIn 2019, IBM partnered with the United States Tennis Association (USTA) to provide new AI-powered tools for the US Open.[37]\\\\n\\\\nIn May 2020, IBM announced agreements with six European companies, including Osram and CrÃ©dit Mutuel, that use IBM Cloud to access advanced technologies such as AI, blockchain and analytics.[38]\\\\n\\\\nReviews\\\\n\\\\n[edit]\\\\n\\\\nIBM Cloud continued to be considered a leader in bare-metal in 2020, and distinguished itself by providing over 11 million possible custom configurations with the latest Power, Intel, and AMD CPUs and Nvidia GPUs.[39]\\\\n\\\\nEnvironmental impact\\\\n\\\\n[edit]\\\\n\\\\nIn 2021, IBM announced it would achieve net zero greenhouse gas emissions by 2030.[40]\\\\n\\\\nReferences\\\\n\\\\n[edit]\\\\n\\\\n^ \"Catalog - IBM Cloud\". May 2016.\\\\n\\\\n^ Schofield, Jack. \"Microsoft and Google rise while IBM sinks in Gartner\\\\\\'s Magic Quadrant for cloud providers\". ZDNet. Retrieved 2020-08-06.\\\\n\\\\n^ Hardiman, Nick (September 23, 2013). \"Softlayer: The bare metal IaaS provider\". TechRepublic. Retrieved 2020-08-05.\\\\n\\\\n^ Spring, Tom (2014-08-22). \"SoftLayer\\\\\\'s 9 Biggest Customer Wins\". CRN. Retrieved 2020-08-06.\\\\n\\\\n^ Bort, Julie (January 28, 2015). \"A Top IBM Cloud Leader Has Left As The Company Shuffles Execs\". Business Insider. Retrieved April 26, 2019.\\\\n\\\\n^ \"GI Partners Leads Buyout of SoftLayer\". Data Center Knowledge. 2010-08-03. Retrieved 2020-11-23.\\\\n\\\\n^ Damouni, Nadia (March 15, 2013). \"Exclusive: EMC, IBM eye web hosting company SoftLayer- sources\". Reuters. Retrieved April 26, 2019.\\\\n\\\\n^ \"Hosting Companies The Planet And SoftLayer Complete Merger\". TechCrunch. November 8, 2010. Retrieved April 26, 2019.\\\\n\\\\n^ Miller, Rich (May 17, 2011). \"SoftLayer: $78 Million in First Quarter Revenue\". datacenterknowledge.com. Retrieved April 26, 2019.\\\\n\\\\n^ Rich Miller (July 26, 2011). \"SoftLayer Goes Global With its Network\". Data Center Knowledge. Retrieved June 5, 2013.\\\\n\\\\n^ \"Digital Realty Signs SoftLayer to Data Centre Lease in Singapore\". News release. October 10, 2011. Retrieved December 16, 2021.\\\\n\\\\n^ Saba, Jennifer. \"IBM to buy website hosting service SoftLayer\". reuters.com. Retrieved June 4, 2013.\\\\n\\\\n^ \"IBM to Acquire SoftLayer to Accelerate Adoption of Cloud Computing in the Enterprise: IBM to Form New Cloud Services Division\". News release. IBM. June 4, 2013. Retrieved June 5, 2013.\\\\n\\\\n^ \"IBM (IBM) to Acquire Public Cloud Provider SoftLayer\". Street Insider. Retrieved June 4, 2013.\\\\n\\\\n^ Holland, Maggie (9 October 2014) IBM and SoftLayer: What a difference a year makes ITPro, Retrieved 18 May 2015\\\\n\\\\n^ \"SoftLayer Data Centers\". Retrieved 2015-05-19.\\\\n\\\\n^ SoftLayer\\\\\\'s new name: IBM Cloud, 2018 [1] IBM, Retrieved 18 January 2019\\\\n\\\\n^ IBM Invests $1B to Deliver Unique Platform-as-a-Service Capabilities to Connect Enterprise Data and Applications to the Cloud (news release), IBM, archived from the original on 2021-01-24\\\\n\\\\n^ \"The best way to develop new ideas at work\", Fortune (article)\\\\n\\\\n^ IBM\\\\\\'s Bluemix PaaS Now Generally Available, eWeek, 1 July 2014. Retrieved 29 October 2018.\\\\n\\\\n^ a b IBM Bluemix finds converts from Amazon, Azure in India, The Times of India, 16 May 2015. Retrieved 29 October 2018.\\\\n\\\\n^ Gartner shows two-horse race in IaaS cloud: AWS and Microsoft Azure: A â\\x80\\x9cyear of reckoningâ\\x80\\x9d leaves all other vendors behind, Brandon Butler, NetworkWorld, 20 May 2015. Retrieved 29 October 2018.\\\\n\\\\n^ AWS, Microsoft Azure Top Gartner\\\\\\'s Magic Quadrant For IaaS, Charles Babcock, InformationWorld, 8 August 2016. Retrieved 29 October 2018.\\\\n\\\\n^ \"IBM Launches Bluemix OpenWhisk, an Event-driven Programming Service\". 22 February 2016.\\\\n\\\\n^ \"Apache OpenWhisk project repository listing in GitHub\". GitHub.\\\\n\\\\n^ \"apache/incubator-openwhisk\". GitHub. Retrieved 22 May 2017.\\\\n\\\\n^ OpenWhisk vies with AWS Lambda, 14 March 2016\\\\n\\\\n^ \"Kubernetes now available on IBM Cloud Container Service\". IBM.\\\\n\\\\n^ \"Bluemix is now IBM Cloud: Build confidently with 170+ services\". IBM.\\\\n\\\\n^ \"IBM announces managed Kubernetes on bare metal\". IBM. 14 March 2018.\\\\n\\\\n^ \"Red Hat OpenShift on IBM Cloud: Power of Kubernetes, Expertise of IBM\". IBM.\\\\n\\\\n^ \"IBM and Bank of America Advance IBM Cloud for Financial Services, BNP Paribas Joins as Anchor Client in Europe\". IBM Newsroom. Retrieved 2023-02-16.\\\\n\\\\n^ \"De-Risking Cloud Consumption: IBM Cloud for Financial Services\". 10 November 2021.\\\\n\\\\n^ \"SAP jumps aboard IBM Cloud for Financial Services\". 30 July 2021.\\\\n\\\\n^ \"CaixaBank boosts digital capabilities with IBM Cloud for Financial Services; Onboards to New IBM Cloud Multizone Region in Spain\" (Press release).\\\\n\\\\n^ \"IBM creates new cloud multi-zone region in Spain\".\\\\n\\\\n^ \"How IBM is delivering AI-generated highlights at the US Open\". September 8, 2019. Retrieved November 26, 2021.\\\\n\\\\n^ \"Major European companies select IBM Cloud to drive innovation\". 17 May 2020.\\\\n\\\\n^ Athow, Desire (February 3, 2020). \"Best bare-metal hosting in 2020\". TechRadar. Retrieved 2020-08-05.\\\\n\\\\n^ Moss, Sebastian (February 17, 2021). \"IBM promises to be net zero by 2030\". www.datacenterdynamics.com. Retrieved 2022-01-03.\\\\n\\\\nExternal links\\\\n\\\\n[edit]\\\\n\\\\nOfficial website\\\\n\\\\nv t e Cloud computing Business models Content as a service Data as a service Desktop as a service Function as a service Infrastructure as a service Integration platform as a service Backend as a service Network as a service Platform as a service Security as a service Software as a service Technologies Cloud database Cloud-native computing Cloud storage Cloud storage gateways Data centers Dew computing Distributed file system for cloud Hardware virtualization Internet Mobile cloud computing Native cloud application Networking Personal cloud Security Serverless computing Structured storage Virtual appliance Web APIs Virtual private cloud Applications Box Dropbox Google Workspace Drive HP Cloud (closed) IBM Cloud Microsoft Office 365 OneDrive Nextcloud Oracle Cloud Owncloud Proton Drive Rackspace Salesforce Seafile Workday Zoho Platforms Alibaba Cloud Amazon Web Services AppScale Box CloudBolt Cloud Foundry Cocaine (PaaS) Creatio Engine Yard Helion GE Predix Google App Engine GreenQloud Heroku IBM Cloud Inktank Jelastic Microsoft Azure MindSphere Netlify Oracle Cloud OutSystems openQRM OpenShift PythonAnywhere RightScale Scalr Force.com SAP Cloud Platform Splunk Vercel vCloud Air WaveMaker Infrastructure Alibaba Cloud Amazon Web Services Abiquo Enterprise Edition CloudStack Citrix Cloud Deft DigitalOcean EMC Atmos Eucalyptus Fujitsu Google Cloud Platform GreenButton GreenQloud IBM Cloud iland Joyent Linode Lunacloud Microsoft Azure Mirantis Netlify Nimbula Nimbus OpenIO OpenNebula OpenStack Oracle Cloud OrionVM Rackspace Cloud Safe Swiss Cloud Zadara libvirt libguestfs OVirt Virtual Machine Manager Wakame-vdc Vercel Virtual Private Cloud OnDemand Category Commons\\\\n\\\\nv t e IBM History History Mergers and acquisitions PC business acquisition by Lenovo Products Hardware Current Mainframe IBM Z Power microprocessors Power Systems Storage FlashSystem DS8000 Quantum Q System One Q System Two Eagle Osprey Heron Condor Former Blue Gene Cell microprocessors PowerPC Midrange computer Personal Computer Selectric ThinkPad Other alphaWorks Carbon Design System Cloud Cloudant Cognos Analytics Connections Criminal Reduction Utilising Statistical History Fortran ILOG Information Management Software Lotus Software Mainframe operating systems Mashup Center Planning Analytics PureQuery Quantum Platform Qiskit OpenQASM Rational Software SPSS Tivoli Software Service Automation Manager Watson Watsonx Granite WebSphere Business entities Current Apptio Center for The Business of Government Consulting Promontory Kenexa International subsidiaries India Press Red Hat Research Former AdStar AIM alliance Kaleida Labs Taligent Ambra Computer Cognos EduQuest Kyndryl Lexmark Merative Microelectronics Product Center Science Research Associates Service Bureau The Weather Company ( Weather Underground ) Facilities Towers 1250 RenÃ©-LÃ©vesque , Montreal, QC One Atlantic Center , Atlanta, GA Software Labs Rome Software Lab Toronto Software Lab IBM Buildings 330 North Wabash , Chicago, IL Honolulu Seattle Facilities Thomas J. Watson Research Center Hakozaki Facility Yamato Facility Cambridge Scientific Center IBM Hursley Canada Head Office Building IBM Rochester Initiatives Academy of Technology Deep Thunder Developer Develothon Fellow The Great Mind Challenge Linux Technology Center SkillsBuild Smarter Planet Virtual Universe Community World Community Grid Think conference Inventions Automated teller machine Cynefin framework DRAM Electronic keypunch Floppy disk Hard disk drive Magnetic stripe card Relational model Sabre airline reservation system Scanning tunneling microscope Financial swaps Universal Product Code Terminology Big Blue Commercial Processing Workload Customer engineer Globally integrated enterprise e-business Think slogan CEOs Thomas J. Watson (1914â\\x80\\x931956) Thomas Watson Jr. (1956â\\x80\\x931971) T. Vincent Learson (1971â\\x80\\x931973) Frank T. Cary (1973â\\x80\\x931981) John R. Opel (1981â\\x80\\x931985) John Fellows Akers (1985â\\x80\\x931993) Louis V. Gerstner Jr. (1993â\\x80\\x932002) Samuel J. Palmisano (2002â\\x80\\x932011) Ginni Rometty (2012â\\x80\\x932020) Arvind Krishna (since 2020) Board of directors Thomas Buberl David Farr Alex Gorsky Michelle J. Howard Arvind Krishna Andrew Liveris Martha E. Pollack Joseph R. Swedish Peter R. Voser Other A Boy and His Atom Big Blue sports teams American football Rugby union Common Public License / IBM Public License Deep Blue Deep Thought Dynamic infrastructure GlobalFoundries GUIDE International IBM and the Holocaust International chess tournament Lucifer cipher Mathematica IBM Plex SHARE computing ScicomP Unions Category Commons Navigational boxes FOSS Midrange computers Operating systems Personal computers System/360 System/370 Typewriters Vacuum tube computers\\\\n\\\\nv t e Major Internet companies Companies with an annual revenue of over US$4 billion Internet Adobe Alibaba Alphabet Google Amazon Apple Baidu IAC Kakao Meituan Meta Facebook Microsoft Naver NetEase Tencent Yandex Cloud computing Akamai Alibaba Cloud AWS Apple iCloud Google IBM Microsoft Azure Oracle Corporation Salesforce ServiceNow E-commerce Amazon.com Apple Booking Holdings Coupang eBay Expedia Flipkart Groupon JD.com Lazada Mercado Libre Rakuten Shopee Shopify Suning.com Trip.com Uber Wayfair Zalando Media Bloomberg BuzzFeed ByteDance Kuaishou Netflix Paramount Streaming Spotify Warner Bros. Discovery\\\\n\\\\nRetrieved from \"https://en.wikipedia.org/w/index.php?title=IBM_Cloud&oldid=1220929669\"\\\\n\\\\nCategories:\\\\n\\\\nIBM subsidiaries\\\\n\\\\nCloud computing providers\\\\n\\\\nCloud infrastructure\\\\n\\\\nCloud platforms\\\\n\\\\nWeb hosting\\\\n\\\\nHidden categories:\\\\n\\\\nArticles with short description\\\\n\\\\nShort description is different from Wikidata\\\\n\\\\nInfobox network service provider ASN not in Wikidata\\\\n\\\\nOfficial website different in Wikidata and Wikipedia'"
      ]
     },
     "metadata": {},
     "output_type": "display_data"
    }
   ],
   "source": [
    "doc_id = 0\n",
    "for doc in documents:\n",
    "    doc.page_content = \" \".join(doc.page_content.split()) # remove white space\n",
    "\n",
    "    doc.metadata[\"id\"] = doc_id #make a document id and add it to the document metadata\n",
    "\n",
    "    print(doc.metadata)\n",
    "    doc_id += 1\n",
    "\n",
    "# Let's see how our sample document looks now after we cleaned it up.\n",
    "display(documents[1].metadata)\n",
    "display(documents[1].page_content)"
   ]
  },
  {
   "cell_type": "markdown",
   "metadata": {},
   "source": [
    "We need to split up our text into smaller, more manageable pieces known as \"chunks\". LangChain's `RecursiveCharacterTextSplitter` takes a large text and splits it based on a specified chunk size using a predefined set of characters. In order, the default characters are:\n",
    "\n",
    "- \"\\n\\n\" - two new line characters\n",
    "- \"\\n\" - one new line character\n",
    "- \" \" - a space\n",
    "- \"\" - an empty character\n",
    "\n",
    "The process starts by attempting to split the text using the first character, \"\\n\\n.\" If the resulting chunks are still too large, it moves to the next character, \"\\n,\" and tries splitting again. This continues with each character in the set until the chunks are smaller than the specified chunk size.\n"
   ]
  },
  {
   "cell_type": "code",
   "execution_count": 6,
   "metadata": {},
   "outputs": [],
   "source": [
    "from langchain_text_splitters import RecursiveCharacterTextSplitter\n",
    "\n",
    "text_splitter = RecursiveCharacterTextSplitter(chunk_size=512, chunk_overlap=0)\n",
    "docs = text_splitter.split_documents(documents)"
   ]
  },
  {
   "cell_type": "markdown",
   "metadata": {},
   "source": [
    "Next, we choose an embedding model to be trained on our IBM products dataset. The trained embedding model is used to generate embeddings for each data point in the dataset. For text data, popular open-source embedding models include Word2Vec, GloVe, FastText or pretrained transformer-based models like BERT or RoBERTa. OpenAIembeddings may also be used by leveraging the OpenAI embeddings API endpoint, the `langchain_openai` package and getting an `openai_api_key`, however, there is a cost associated with this usage.\n",
    "\n",
    "Unfortunately, because the embedding models are so large, vector embedding often demands significant computational resources, like a GPU. We can greatly lower the costs linked to embedding vectors, while preserving performance and accuracy by using WatsonxEmbeddings. We'll use the IBM embeddings model, Slate, an encoder-only (RoBERTa-based) model, which while not generative, is fast and effective for many NLP tasks.\n",
    "\n",
    "Alternatively, we can use the [Hugging Face embeddings models](https://python.langchain.com/v0.2/docs/integrations/platforms/huggingface/#embedding-models) via LangChain.\n"
   ]
  },
  {
   "cell_type": "code",
   "execution_count": 7,
   "metadata": {},
   "outputs": [],
   "source": [
    "embeddings = WatsonxEmbeddings(\n",
    "    model_id=EmbeddingTypes.IBM_SLATE_30M_ENG.value,\n",
    "    url=credentials[\"url\"],\n",
    "    project_id=project_id,\n",
    "    )"
   ]
  },
  {
   "cell_type": "code",
   "execution_count": 30,
   "metadata": {},
   "outputs": [],
   "source": [
    "# BATCH PROCESSING AND OPTIMIZATION\n",
    "\n",
    "import multiprocessing\n",
    "\n",
    "def process_documents_in_parallel(documents, embedding_func):\n",
    "    with multiprocessing.Pool(processes=multiprocessing.cpu_count()) as pool:\n",
    "        results = pool.map(embedding_func, documents)\n",
    "    return results\n",
    "\n",
    "# Example usage\n",
    "embeddings = process_documents_in_parallel(documents, lambda doc: embeddings.embed_query(doc.page_content))\n"
   ]
  },
  {
   "cell_type": "code",
   "execution_count": 28,
   "metadata": {},
   "outputs": [
    {
     "name": "stdout",
     "output_type": "stream",
     "text": [
      "PCA is implemented successfully!\n"
     ]
    }
   ],
   "source": [
    "# Adding PCA to the pre-existing model\n",
    "\n",
    "import numpy as np\n",
    "from sklearn.decomposition import PCA\n",
    "\n",
    "# Assuming docs is the list of documents and 'embeddings' is the WatsonxEmbeddings model\n",
    "\n",
    "# Convert embeddings into vectors (assumes you have the Watsonx model producing embeddings)\n",
    "doc_embeddings = []\n",
    "\n",
    "for doc in docs:\n",
    "    embedding = embeddings.embed_query(doc.page_content)  # Assuming embed_query method gives a numerical embedding\n",
    "    doc_embeddings.append(embedding)\n",
    "\n",
    "# Convert to NumPy array\n",
    "embeddings_array = np.array(doc_embeddings)\n",
    "\n",
    "# Check the number of documents (samples) and the dimensionality of each embedding (features)\n",
    "n_samples, n_features = embeddings_array.shape\n",
    "\n",
    "# Set the number of components to be the smaller of the two\n",
    "n_components = min(n_samples, n_features)\n",
    "\n",
    "# Apply PCA to reduce dimensions\n",
    "pca = PCA(n_components=n_components)  # Adjust based on data shape\n",
    "reduced_embeddings = pca.fit_transform(embeddings_array)\n",
    "\n"
   ]
  },
  {
   "cell_type": "code",
   "execution_count": 8,
   "metadata": {},
   "outputs": [],
   "source": [
    "vectorstore = Chroma.from_documents(documents=docs, embedding=embeddings)"
   ]
  },
  {
   "cell_type": "code",
   "execution_count": 9,
   "metadata": {},
   "outputs": [
    {
     "data": {
      "text/plain": [
       "[(Document(metadata={'id': 1, 'name': 'ibm_cloud_wiki', 'source': 'https://cf-courses-data.s3.us.cloud-object-storage.appdomain.cloud/wxekgOAVRH71dO92DEbwfQ/ibm-cloud.txt'}, page_content='Retrieved 2015-05-19.\\\\n\\\\n^ SoftLayer\\\\\\'s new name: IBM Cloud, 2018 [1] IBM, Retrieved 18 January 2019\\\\n\\\\n^ IBM Invests $1B to Deliver Unique Platform-as-a-Service Capabilities to Connect Enterprise Data and Applications to the Cloud (news release), IBM, archived from the original on 2021-01-24\\\\n\\\\n^ \"The best way to develop new ideas at work\", Fortune (article)\\\\n\\\\n^ IBM\\\\\\'s Bluemix PaaS Now Generally Available, eWeek, 1 July 2014. Retrieved 29 October 2018.\\\\n\\\\n^ a b IBM Bluemix finds converts from Amazon,'),\n",
       "  0.4067537784576416),\n",
       " (Document(metadata={'id': 1, 'name': 'ibm_cloud_wiki', 'source': 'https://cf-courses-data.s3.us.cloud-object-storage.appdomain.cloud/wxekgOAVRH71dO92DEbwfQ/ibm-cloud.txt'}, page_content='IBM Cloud\\\\n\\\\ní\\x95\\x9cêµ\\xadì\\x96´\\\\n\\\\næ\\x97¥æ\\x9c¬èª\\x9e\\\\n\\\\nEdit links\\\\n\\\\nFrom Wikipedia, the free encyclopedia\\\\n\\\\nCloud computing services provided by IBM\\\\n\\\\nType cloud computing , IaaS , PaaS , cloud services Website www .ibm .com /cloud\\\\n\\\\nIBM Cloud (formerly known as Bluemix) is a set of cloud computing services for business offered by the information technology company IBM.\\\\n\\\\nServices\\\\n\\\\n[edit]\\\\n\\\\nAs of 2021, IBM Cloud contains more than 170 services[1] including compute, storage, networking, database, analytics, machine'),\n",
       "  0.40745800733566284),\n",
       " (Document(metadata={'id': 0, 'name': 'watsonx_wiki', 'source': 'https://cf-courses-data.s3.us.cloud-object-storage.appdomain.cloud/PWMJ9-Npq9FYNSWrrf99YQ/watsonx.txt'}, page_content='Lab\\\\n\\\\nv t e IBM History History Mergers and acquisitions PC business acquisition by Lenovo Products Hardware Current Mainframe IBM Z Power microprocessors Power Systems Storage FlashSystem DS8000 Quantum Q System One Q System Two Eagle Osprey Heron Condor Former Blue Gene Cell microprocessors PowerPC Midrange computer Personal Computer Selectric ThinkPad Other alphaWorks Carbon Design System Cloud Cloudant Cognos Analytics Connections Criminal Reduction Utilising Statistical History Fortran ILOG'),\n",
       "  0.41106849908828735),\n",
       " (Document(metadata={'id': 1, 'name': 'ibm_cloud_wiki', 'source': 'https://cf-courses-data.s3.us.cloud-object-storage.appdomain.cloud/wxekgOAVRH71dO92DEbwfQ/ibm-cloud.txt'}, page_content='Spain\".\\\\n\\\\n^ \"How IBM is delivering AI-generated highlights at the US Open\". September 8, 2019. Retrieved November 26, 2021.\\\\n\\\\n^ \"Major European companies select IBM Cloud to drive innovation\". 17 May 2020.\\\\n\\\\n^ Athow, Desire (February 3, 2020). \"Best bare-metal hosting in 2020\". TechRadar. Retrieved 2020-08-05.\\\\n\\\\n^ Moss, Sebastian (February 17, 2021). \"IBM promises to be net zero by 2030\". www.datacenterdynamics.com. Retrieved 2022-01-03.\\\\n\\\\nExternal links\\\\n\\\\n[edit]\\\\n\\\\nOfficial website\\\\n\\\\nv t e Cloud'),\n",
       "  0.419514000415802)]"
      ]
     },
     "execution_count": 9,
     "metadata": {},
     "output_type": "execute_result"
    }
   ],
   "source": [
    "query = \"What is IBM?\"\n",
    "search = vectorstore.similarity_search_with_score(query, k=4)\n",
    "search"
   ]
  },
  {
   "cell_type": "markdown",
   "metadata": {},
   "source": [
    "Let's load our content into a local instance of a vector database, using Chromadb.\n"
   ]
  },
  {
   "cell_type": "markdown",
   "metadata": {},
   "source": [
    "Let's do a quick search of our vector database to test it out! Using `similarity_search_with_score` allows us to return the documents and the distance score of the query to them. The returned distance score is Euclidean distance. Therefore, a lower score is better.\n",
    "\n",
    "You can adjust `k` to fetch the number of results you want to return.\n"
   ]
  },
  {
   "cell_type": "markdown",
   "metadata": {},
   "source": [
    "## <a id='toc1_8_'></a>[Set up a retriever](#toc0_)\n",
    "\n",
    "We'll set up our vector store as a retriever. The retrieved information from the vector store serves as additional context or knowledge that can be used by a generative model.\n",
    "\n",
    "You can also specify search kwargs like `k` (the number of documents to return (Default: 4)) to use when doing retrieval.\n"
   ]
  },
  {
   "cell_type": "code",
   "execution_count": 10,
   "metadata": {},
   "outputs": [],
   "source": [
    "retriever = vectorstore.as_retriever(search_kwargs={'k':2})"
   ]
  },
  {
   "cell_type": "code",
   "execution_count": 34,
   "metadata": {},
   "outputs": [],
   "source": [
    "#CACHE LAYER OPTIMIZATION\n",
    "\n",
    "from cachetools import cached, TTLCache\n",
    "\n",
    "# Create a cache for queries with time-to-live (TTL)\n",
    "cache = TTLCache(maxsize=100, ttl=3600)  # Cache 100 responses for 1 hour\n",
    "\n",
    "@cached(cache)\n",
    "def ask_model(query, retriever):\n",
    "    # Your chain.invoke() call here\n",
    "    return chain.invoke(query)\n",
    "\n",
    "# Now when you query, frequently asked questions will be cached\n",
    "response = ask_model(\"Tell me about IBM\", retriever)\n"
   ]
  },
  {
   "cell_type": "markdown",
   "metadata": {},
   "source": [
    "## <a id='toc1_9_'></a>[Generate a response with a generative model](#toc0_)\n",
    "\n",
    "Finally, we’ll generate a response. The generative model (like GPT-4 or IBM Granite) uses the retrieved information to produce a more accurate and contextually relevant response to our questions about IBM products.\n",
    "\n",
    "First, we'll establish the LLM we're going to use to generate the response. For this tutorial, we'll use Llama 3.\n",
    "\n",
    "The available model parameters can be found [here](https://ibm.github.io/watson-machine-learning-sdk/model.html#enums).\n",
    "\n",
    "For more information on model parameters and what they mean, see [Foundation model parameters: decoding and stopping criteria](https://www.ibm.com/docs/en/watsonx/saas?utm_source=skills_network&utm_content=in_lab_content_link&utm_id=Lab-Building+a+RAG+system+for+web+data+using+Llama+3.1-405b_v1_1722347683&topic=lab-model-parameters-prompting).\n"
   ]
  },
  {
   "cell_type": "code",
   "execution_count": 11,
   "metadata": {},
   "outputs": [],
   "source": [
    "model_id = \"meta-llama/llama-3-405b-instruct\"\n",
    "\n",
    "parameters = {\n",
    "    GenParams.DECODING_METHOD: 'greedy',\n",
    "    GenParams.MIN_NEW_TOKENS: 10,\n",
    "    GenParams.MAX_NEW_TOKENS: 512,\n",
    "    GenParams.REPETITION_PENALTY:1,\n",
    "    GenParams.RETURN_OPTIONS: {'input_tokens': True,'generated_tokens': True, 'token_logprobs': True, 'token_ranks': True, }\n",
    "}\n",
    "\n",
    "# instantiate the LLM\n",
    "llm = WatsonxLLM(\n",
    "    model_id=model_id,\n",
    "    url=credentials.get(\"url\"),\n",
    "    apikey=credentials.get(\"apikey\"),\n",
    "    project_id=project_id,\n",
    "    params=parameters\n",
    ")"
   ]
  },
  {
   "cell_type": "code",
   "execution_count": 29,
   "metadata": {},
   "outputs": [],
   "source": [
    "# HYPERPARAMETER OPTIMIZATION\n",
    "\n",
    "parameters = {\n",
    "    GenParams.DECODING_METHOD: 'beam_search',  # Change from greedy to beam search\n",
    "    GenParams.MIN_NEW_TOKENS: 10,  # Min new tokens in generation\n",
    "    GenParams.MAX_NEW_TOKENS: 512,  # Max new tokens in generation\n",
    "    GenParams.REPETITION_PENALTY: 1.1,  # Slightly higher repetition penalty to avoid repetition\n",
    "    GenParams.NUM_BEAMS: 5,  # For beam search\n",
    "    GenParams.TEMPERATURE: 0.7,  # Add temperature to control randomness\n",
    "    GenParams.TOP_K: 50,  # Top-k sampling for diverse generation\n",
    "    GenParams.TOP_P: 0.9  # Nucleus sampling\n",
    "}\n"
   ]
  },
  {
   "cell_type": "code",
   "execution_count": null,
   "metadata": {},
   "outputs": [],
   "source": [
    "# FINE TUNING \n",
    "\n",
    "feedback_data = []\n",
    "\n",
    "def ask_model_with_feedback(query, retriever):\n",
    "    response = chain.invoke(query)\n",
    "    \n",
    "    # Ask the user for feedback (could be through a UI or a prompt)\n",
    "    feedback = input(\"Rate this answer from 1 to 5: \")\n",
    "    feedback_data.append((query, response, feedback))\n",
    "    \n",
    "    return response\n",
    "\n",
    "response = ask_model_with_feedback(\"Tell me about IBM\", retriever)\n",
    "\n",
    "# Periodically, fine-tune the model on this feedback data\n",
    "# Fine-tuning process depends on Watsonx capabilities\n"
   ]
  },
  {
   "cell_type": "markdown",
   "metadata": {},
   "source": [
    "We'll set up a `prompt template` to ask multiple questions. The \"context\" will be derived from our retriever (our vector database) with the relevant documents and the \"question\" will be derived from the user query.\n"
   ]
  },
  {
   "cell_type": "code",
   "execution_count": 12,
   "metadata": {},
   "outputs": [],
   "source": [
    "template = \"\"\"Generate a summary of the context that answers the question. Explain the answer in multiple steps if possible. \n",
    "Answer style should match the context. Ideal Answer Length 2-3 sentences.\\n\\n{context}\\nQuestion: {question}\\nAnswer:\n",
    "\"\"\"\n",
    "prompt = ChatPromptTemplate.from_template(template)"
   ]
  },
  {
   "cell_type": "markdown",
   "metadata": {},
   "source": [
    "Let's set up a helper function to format the docs accordingly:\n"
   ]
  },
  {
   "cell_type": "code",
   "execution_count": 13,
   "metadata": {},
   "outputs": [],
   "source": [
    "def format_docs(docs):\n",
    "    return \"\\n\\n\".join([d.page_content for d in docs])"
   ]
  },
  {
   "cell_type": "markdown",
   "metadata": {},
   "source": [
    "Next, we can set up a chain with our context, our prompt, and our LLM model. We'll use `StrOutputParser` for parsing the results. The generative model processes the augmented context along with the user's question to produce a response.\n"
   ]
  },
  {
   "cell_type": "code",
   "execution_count": 14,
   "metadata": {},
   "outputs": [],
   "source": [
    "chain = (\n",
    "    {\"context\": retriever | format_docs, \"question\": RunnablePassthrough()}\n",
    "    | prompt\n",
    "    | llm\n",
    "    | StrOutputParser()\n",
    ")"
   ]
  },
  {
   "cell_type": "markdown",
   "metadata": {},
   "source": [
    "We can now ask questions:\n"
   ]
  },
  {
   "cell_type": "code",
   "execution_count": 15,
   "metadata": {},
   "outputs": [
    {
     "name": "stdout",
     "output_type": "stream",
     "text": [
      "('The text does not explicitly mention the founder of IBM. However, IBM was founded in 1911 by Charles Ranlett Flint '\n",
      " 'as the Computing-Tabulating-Recording Company (CTR), which was later renamed International Business Machines (IBM) '\n",
      " \"in 1924. The company's early success was largely due to the efforts of Thomas J. Watson, who became the company's \"\n",
      " \"first CEO in 1914 and played a significant role in shaping IBM's future.\\n\"\n",
      " '\\n'\n",
      " 'Note: The provided text does not contain information about the founder of IBM, so the answer is based on general '\n",
      " \"knowledge about the company's history.\")\n"
     ]
    }
   ],
   "source": [
    "import pprint\n",
    "\n",
    "pprint.pprint(chain.invoke(\"Who is the founder of IBM?\"), width=120) "
   ]
  },
  {
   "cell_type": "code",
   "execution_count": 16,
   "metadata": {},
   "outputs": [
    {
     "name": "stdout",
     "output_type": "stream",
     "text": [
      "('IBM is a technology company with a long history of innovation, dating back to its founding in 1911. The company has '\n",
      " 'undergone significant transformations over the years, including its shift from a hardware-centric business to a more '\n",
      " 'services-oriented company. Today, IBM is a leading provider of cloud computing, artificial intelligence, and IT '\n",
      " 'services, with a strong focus on innovation and sustainability, as evident in its promise to be net zero by 2030.')\n"
     ]
    }
   ],
   "source": [
    "pprint.pprint(chain.invoke(\"Tell me about IBM\"), width=120)"
   ]
  },
  {
   "cell_type": "code",
   "execution_count": 19,
   "metadata": {},
   "outputs": [
    {
     "name": "stdout",
     "output_type": "stream",
     "text": [
      "('The founder of IBM is not explicitly mentioned in the provided text. However, IBM was founded by Charles Ranlett '\n",
      " 'Flint, who merged three companies to form the Computing-Tabulating-Recording Company (CTR) in 1911. The company was '\n",
      " \"later renamed International Business Machines (IBM) in 1924. Thomas J. Watson, who served as the company's first \"\n",
      " 'CEO, is often credited as the founder of IBM, but technically, he was not the original founder.')\n"
     ]
    }
   ],
   "source": [
    "#Asking Questions\n",
    "pprint.pprint(chain.invoke(\"Who is the founder of IBM?\"), width=120)\n"
   ]
  },
  {
   "cell_type": "code",
   "execution_count": 20,
   "metadata": {},
   "outputs": [
    {
     "name": "stdout",
     "output_type": "stream",
     "text": [
      "('IBM is a technology company with a long history of innovation, including the development of the first practical '\n",
      " 'computer, the System/360 mainframe, and the creation of the floppy disk. The company has undergone significant '\n",
      " 'changes over the years, including the acquisition of its PC business by Lenovo, and has shifted its focus towards '\n",
      " 'cloud computing, artificial intelligence, and other emerging technologies. Today, IBM offers a wide range of '\n",
      " 'products and services, including hardware, software, and consulting services, and is one of the largest and most '\n",
      " 'influential technology companies in the world.')\n"
     ]
    }
   ],
   "source": [
    "pprint.pprint(chain.invoke(\"Tell me about IBM\"), width=120)"
   ]
  },
  {
   "cell_type": "markdown",
   "metadata": {},
   "source": [
    "## <a id='toc1_12_'></a>[Contributors](#toc0_)\n",
    "\n",
    "Nikhil Shreeram(22011101079)\n",
    "\n",
    "Soham Banerjee (22011101109)\n"
   ]
  }
 ],
 "metadata": {
  "kernelspec": {
   "display_name": "Python 3 (ipykernel)",
   "language": "python",
   "name": "python3"
  },
  "language_info": {
   "codemirror_mode": {
    "name": "ipython",
    "version": 3
   },
   "file_extension": ".py",
   "mimetype": "text/x-python",
   "name": "python",
   "nbconvert_exporter": "python",
   "pygments_lexer": "ipython3",
   "version": "3.11.9"
  },
  "prev_pub_hash": "7e87c85f541aa1811b111df7e50c063498308b344dda7d47839559a198ce74dc"
 },
 "nbformat": 4,
 "nbformat_minor": 4
}
